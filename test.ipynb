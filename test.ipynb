{
 "cells": [
  {
   "cell_type": "code",
   "execution_count": 6,
   "metadata": {},
   "outputs": [
    {
     "data": {
      "text/plain": [
       "[[22, 23, 6, 13, 18, 17], [12, 19, 11, 0, 8, 21], [16, 3, 9, 20, 2, 15]]"
      ]
     },
     "execution_count": 6,
     "metadata": {},
     "output_type": "execute_result"
    }
   ],
   "source": [
    "import random\n",
    "\n",
    "unseen_cards = [c for c in range(24)]\n",
    "random.shuffle(unseen_cards)\n",
    "unseen_hands = [unseen_cards[i : i + 6] for i in (0, 8, 16)]\n",
    "\n",
    "unseen_hands"
   ]
  },
  {
   "cell_type": "code",
   "execution_count": 3,
   "metadata": {},
   "outputs": [
    {
     "name": "stdout",
     "output_type": "stream",
     "text": [
      "Number of valid distributions: 194040\n"
     ]
    }
   ],
   "source": [
    "from itertools import combinations\n",
    "\n",
    "\n",
    "def count_distributions(my_hand):\n",
    "    # Define the remaining deck after removing your hand\n",
    "    suits = [\"♠\", \"♣\", \"♦\", \"♥\"]\n",
    "    values = [\"7\", \"8\", \"9\", \"10\", \"J\", \"Q\", \"K\", \"A\"]\n",
    "    full_deck = {f\"{value}{suit}\" for value in values for suit in suits}\n",
    "    remaining_deck = full_deck - set(my_hand)\n",
    "\n",
    "    # Separate remaining cards by suits for constraints\n",
    "    remaining_spades = {card for card in remaining_deck if \"♠\" in card}\n",
    "    remaining_hearts = {card for card in remaining_deck if \"♥\" in card}\n",
    "    remaining_others = remaining_deck - remaining_spades - remaining_hearts\n",
    "\n",
    "    # Calculate combinations for the player with no spades (6 cards from non-spades)\n",
    "    no_spades_combinations = list(combinations(remaining_others, 6))\n",
    "\n",
    "    # For each combination for the player with no spades, calculate combinations for the player with no hearts\n",
    "    valid_distributions = 0\n",
    "    for no_spades_hand in no_spades_combinations:\n",
    "        remaining_after_no_spades = remaining_deck - set(no_spades_hand)\n",
    "        remaining_non_hearts = remaining_after_no_spades - remaining_hearts\n",
    "        # Player with no hearts takes 6 cards from the remaining non-hearts pool\n",
    "        no_hearts_combinations = list(combinations(remaining_non_hearts, 6))\n",
    "\n",
    "        for no_hearts_hand in no_hearts_combinations:\n",
    "            # After distributing to no spades and no hearts players, the rest can be distributed freely\n",
    "            remaining_final = remaining_after_no_spades - set(no_hearts_hand)\n",
    "            # The last two players can split the remaining cards in any way, so we count this as a valid distribution\n",
    "            valid_distributions += 1\n",
    "\n",
    "    return valid_distributions\n",
    "\n",
    "\n",
    "# Your hand\n",
    "my_hand = [\"10♣\", \"K♦\", \"10♠\", \"7♦\", \"8♠\", \"J♠\", \"7♠\", \"9♣\"]\n",
    "\n",
    "# Calculate the number of valid distributions\n",
    "num_distributions = count_distributions(my_hand)\n",
    "print(f\"Number of valid distributions: {num_distributions}\")"
   ]
  },
  {
   "cell_type": "code",
   "execution_count": 6,
   "metadata": {},
   "outputs": [
    {
     "name": "stdout",
     "output_type": "stream",
     "text": [
      "Player 1's hand: ['10♣', 'K♦', '10♠', '7♦', '8♠', 'J♠', '7♠', '9♣']\n",
      "Player 2's hand: ['K♥', '9♦', 'Q♥', 'A♥', '9♥', '10♦', 'J♥', 'Q♦']\n",
      "Player 3's hand: ['A♦', 'K♠', 'J♣', '8♦', '7♣', 'A♣', 'Q♠', '9♠']\n",
      "Player 4's hand: ['8♥', 'Q♣', '7♥', '8♣', 'J♦', 'K♣', '10♥', 'A♠']\n"
     ]
    }
   ],
   "source": [
    "import random\n",
    "\n",
    "\n",
    "def generate_balanced_random_distribution(my_hand):\n",
    "    # Define the full deck\n",
    "    suits = [\"♠\", \"♣\", \"♦\", \"♥\"]\n",
    "    values = [\"7\", \"8\", \"9\", \"10\", \"J\", \"Q\", \"K\", \"A\"]\n",
    "    full_deck = {f\"{value}{suit}\" for value in values for suit in suits}\n",
    "\n",
    "    # Remove your hand from the deck\n",
    "    remaining_deck = list(full_deck - set(my_hand))\n",
    "    random.shuffle(remaining_deck)  # Shuffle the remaining deck for randomness\n",
    "\n",
    "    # Split the remaining deck into suits\n",
    "    remaining_spades = [card for card in remaining_deck if \"♠\" in card]\n",
    "    remaining_hearts = [card for card in remaining_deck if \"♥\" in card]\n",
    "    remaining_others = [card for card in remaining_deck if card not in remaining_spades + remaining_hearts]\n",
    "\n",
    "    # Ensure distribution without spades and hearts\n",
    "    # Since we need to ensure 8 cards per player, we adjust the logic accordingly\n",
    "\n",
    "    # Player with no spades: Can't have spades, distribute from remaining_deck excluding spades\n",
    "    remaining_deck_no_spades = [card for card in remaining_deck if \"♠\" not in card]\n",
    "    player_no_spades = random.sample(remaining_deck_no_spades, 8)\n",
    "    for card in player_no_spades:\n",
    "        remaining_deck.remove(card)\n",
    "\n",
    "    # Player with no hearts: Can't have hearts, distribute from remaining_deck excluding hearts\n",
    "    remaining_deck_no_hearts = [card for card in remaining_deck if \"♥\" not in card]\n",
    "    player_no_hearts = random.sample(remaining_deck_no_hearts, 8)\n",
    "    for card in player_no_hearts:\n",
    "        remaining_deck.remove(card)\n",
    "\n",
    "    # The last player gets the remaining 8 cards\n",
    "    player_last = remaining_deck\n",
    "\n",
    "    # Return the distribution including your hand for completeness\n",
    "    distribution = [my_hand, player_no_spades, player_no_hearts, player_last]\n",
    "    return distribution\n",
    "\n",
    "\n",
    "# Your hand\n",
    "my_hand = [\"10♣\", \"K♦\", \"10♠\", \"7♦\", \"8♠\", \"J♠\", \"7♠\", \"9♣\"]\n",
    "\n",
    "# Generate a balanced random distribution\n",
    "random_distribution = generate_balanced_random_distribution(my_hand)\n",
    "for i, hand in enumerate(random_distribution):\n",
    "    print(f\"Player {i+1}'s hand: {hand}\")"
   ]
  },
  {
   "cell_type": "code",
   "execution_count": 2,
   "metadata": {},
   "outputs": [
    {
     "name": "stdout",
     "output_type": "stream",
     "text": [
      "99561092450391000\n"
     ]
    }
   ],
   "source": [
    "from math import comb\n",
    "\n",
    "# Calculate the number of unique deal results for 32 cards among 4 players\n",
    "unique_deals = comb(32, 8) * comb(24, 8) * comb(16, 8) * comb(8, 8)\n",
    "print(unique_deals)"
   ]
  },
  {
   "cell_type": "code",
   "execution_count": 2,
   "metadata": {},
   "outputs": [
    {
     "data": {
      "text/plain": [
       "263130836933693530167218012160000000"
      ]
     },
     "execution_count": 2,
     "metadata": {},
     "output_type": "execute_result"
    }
   ],
   "source": [
    "import math\n",
    "\n",
    "math.factorial(32)"
   ]
  },
  {
   "cell_type": "code",
   "execution_count": 2,
   "metadata": {},
   "outputs": [
    {
     "name": "stdout",
     "output_type": "stream",
     "text": [
      "{'a': [100, 2, 3], 'b': [4, 5, 6]}\n"
     ]
    }
   ],
   "source": [
    "import copy\n",
    "\n",
    "original_dict = {\"a\": [1, 2, 3], \"b\": [4, 5, 6]}\n",
    "\n",
    "# Using the copy method\n",
    "shallow_copy_method = original_dict.copy()\n",
    "\n",
    "# Using the copy module\n",
    "shallow_copy_module = copy.copy(original_dict)\n",
    "\n",
    "# Modifying a nested list in the shallow copy\n",
    "shallow_copy_module[\"a\"][0] = 100\n",
    "\n",
    "# The change reflects in the original dictionary\n",
    "print(original_dict)  # Output: {'a': [100, 2, 3], 'b': [4, 5, 6]}"
   ]
  },
  {
   "cell_type": "code",
   "execution_count": null,
   "metadata": {},
   "outputs": [],
   "source": []
  },
  {
   "cell_type": "code",
   "execution_count": 5,
   "metadata": {},
   "outputs": [],
   "source": [
    "trump_values = [0, 0, 14, 10, 20, 3, 4, 11]\n",
    "\n",
    "\n",
    "def higher_trumps(trump, current_trick, hand_trumps):\n",
    "    max_trick_trump_value = max(trump_values[card % 8] for card in current_trick if card // 8 == trump)\n",
    "    return [card for card in hand_trumps if trump_values[card % 8] > max_trick_trump_value]"
   ]
  },
  {
   "cell_type": "code",
   "execution_count": 7,
   "metadata": {},
   "outputs": [
    {
     "data": {
      "text/plain": [
       "[2, 4, 7]"
      ]
     },
     "execution_count": 7,
     "metadata": {},
     "output_type": "execute_result"
    }
   ],
   "source": [
    "higher_trumps(0, [3, 23, 17], [*range(8)])"
   ]
  },
  {
   "cell_type": "code",
   "execution_count": 14,
   "metadata": {},
   "outputs": [
    {
     "name": "stdout",
     "output_type": "stream",
     "text": [
      "7♠: 00 8\n",
      "8♠: 00 9\n",
      "9♠: 14 14\n",
      "10♠: 10 12\n",
      "J♠: 20 15\n",
      "Q♠: 03 10\n",
      "K♠: 04 11\n",
      "A♠: 11 13\n",
      "7♥: 00 0\n",
      "8♥: 00 0\n",
      "9♥: 00 0\n",
      "10♥: 10 0\n",
      "J♥: 02 0\n",
      "Q♥: 03 0\n",
      "K♥: 04 0\n",
      "A♥: 11 0\n",
      "7♦: 00 0\n",
      "8♦: 00 0\n",
      "9♦: 00 0\n",
      "10♦: 10 0\n",
      "J♦: 02 0\n",
      "Q♦: 03 0\n",
      "K♦: 04 0\n",
      "A♦: 11 0\n",
      "7♣: 00 0\n",
      "8♣: 00 0\n",
      "9♣: 00 0\n",
      "10♣: 10 0\n",
      "J♣: 02 0\n",
      "Q♣: 03 0\n",
      "K♣: 04 0\n",
      "A♣: 11 0\n"
     ]
    },
    {
     "ename": "",
     "evalue": "",
     "output_type": "error",
     "traceback": [
      "\u001b[1;31mThe Kernel crashed while executing code in the current cell or a previous cell. \n",
      "\u001b[1;31mPlease review the code in the cell(s) to identify a possible cause of the failure. \n",
      "\u001b[1;31mClick <a href='https://aka.ms/vscodeJupyterKernelCrash'>here</a> for more info. \n",
      "\u001b[1;31mView Jupyter <a href='command:jupyter.viewOutput'>log</a> for further details."
     ]
    }
   ],
   "source": [
    "def get_scores(trump):\n",
    "    scores = [0, 0, 0, 10, 2, 3, 4, 11] * 4\n",
    "    scores[8 * trump : 8 * trump + 8] = [0, 0, 14, 10, 20, 3, 4, 11]\n",
    "    return scores\n",
    "\n",
    "\n",
    "def get_card_name(index):\n",
    "    values = [\"7\", \"8\", \"9\", \"10\", \"J\", \"Q\", \"K\", \"A\"]\n",
    "    suits = [\"♠\", \"♥\", \"♦\", \"♣\"]\n",
    "    return values[index % 8] + suits[index // 8]\n",
    "\n",
    "\n",
    "def get_ranks(trump, lead):\n",
    "    ranks = [0] * 32\n",
    "    ranks[8 * lead : 8 * lead + 8] = [0, 1, 2, 6, 3, 4, 5, 7]\n",
    "    ranks[8 * trump : 8 * trump + 8] = [8, 9, 14, 12, 15, 10, 11, 13]\n",
    "    return ranks\n",
    "\n",
    "\n",
    "for i in range(32):\n",
    "    print(f\"{get_card_name(i)}: {get_scores(0)[i]:02} {get_ranks(0, 0)[i]}\")"
   ]
  },
  {
   "cell_type": "code",
   "execution_count": null,
   "metadata": {},
   "outputs": [],
   "source": []
  }
 ],
 "metadata": {
  "kernelspec": {
   "display_name": "base",
   "language": "python",
   "name": "python3"
  },
  "language_info": {
   "codemirror_mode": {
    "name": "ipython",
    "version": 3
   },
   "file_extension": ".py",
   "mimetype": "text/x-python",
   "name": "python",
   "nbconvert_exporter": "python",
   "pygments_lexer": "ipython3",
   "version": "3.11.5"
  }
 },
 "nbformat": 4,
 "nbformat_minor": 2
}
